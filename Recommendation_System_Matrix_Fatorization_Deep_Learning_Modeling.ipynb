{
  "nbformat": 4,
  "nbformat_minor": 0,
  "metadata": {
    "colab": {
      "name": "Recommendation System- Matrix Fatorization/Deep Learning Modeling.ipynb",
      "provenance": [],
      "collapsed_sections": [],
      "authorship_tag": "ABX9TyMLqqjpyIp7XUrLjybWC9Gi",
      "include_colab_link": true
    },
    "kernelspec": {
      "name": "python3",
      "display_name": "Python 3"
    },
    "language_info": {
      "name": "python"
    },
    "accelerator": "TPU"
  },
  "cells": [
    {
      "cell_type": "markdown",
      "metadata": {
        "id": "view-in-github",
        "colab_type": "text"
      },
      "source": [
        "<a href=\"https://colab.research.google.com/github/kaispace30098/Recommendation_system_MF_Deep_Learning_modeling/blob/main/Recommendation_System_Matrix_Fatorization_Deep_Learning_Modeling.ipynb\" target=\"_parent\"><img src=\"https://colab.research.google.com/assets/colab-badge.svg\" alt=\"Open In Colab\"/></a>"
      ]
    },
    {
      "cell_type": "code",
      "execution_count": 1,
      "metadata": {
        "id": "-9iYW8xl2jfT"
      },
      "outputs": [],
      "source": [
        "import pickle\n",
        "import numpy as np\n",
        "import pandas as pd\n",
        "import matplotlib.pyplot as plt\n",
        "from sklearn.utils import shuffle\n",
        "import tensorflow as tf"
      ]
    },
    {
      "cell_type": "code",
      "source": [
        "from tensorflow.keras.models import Model\n",
        "from tensorflow.keras.layers import Input, Embedding, Dot, Add, Flatten,Concatenate,Dense,Activation,BatchNormalization,Dropout\n",
        "from tensorflow.keras.regularizers import l2\n",
        "from tensorflow.keras.optimizers import SGD"
      ],
      "metadata": {
        "id": "tp8sW2bb224c"
      },
      "execution_count": 3,
      "outputs": []
    },
    {
      "cell_type": "code",
      "source": [
        "def read_dir_file(case_f):  # case_f = 0 for uploading one File and case_f = 1 for uploading one Zipped Directory\n",
        "        #uploaded = files.upload()    # to upload a Full Directory, please Zip it first (use WinZip)\n",
        "        for fn in uploaded.keys():\n",
        "            name = fn  #.encode('utf-8')\n",
        "            #print('\\nfile after encode', name)\n",
        "            #name = io.BytesIO(uploaded[name])\n",
        "        if case_f == 0:    # case of uploading 'One File only'\n",
        "            print('\\n file name: ', name)\n",
        "            return name\n",
        "        else:   # case of uploading a directory and its subdirectories and files\n",
        "            zfile = zipfile.ZipFile(name, 'r')   # unzip the directory \n",
        "            zfile.extractall()\n",
        "            for d in zfile.namelist():   # d = directory\n",
        "                print('\\n main directory name: ', d)\n",
        "                return d\n",
        "\n",
        "import io\n",
        "from google.colab import files\n",
        "uploaded = files.upload()\n",
        "fileName = read_dir_file(0)\n",
        "df=pd.read_csv(io.BytesIO(uploaded[fileName]),encoding='utf-8')"
      ],
      "metadata": {
        "colab": {
          "resources": {
            "http://localhost:8080/nbextensions/google.colab/files.js": {
              "data": "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",
              "ok": true,
              "headers": [
                [
                  "content-type",
                  "application/javascript"
                ]
              ],
              "status": 200,
              "status_text": "OK"
            }
          },
          "base_uri": "https://localhost:8080/",
          "height": 112
        },
        "id": "Jt8JzkRh3MPU",
        "outputId": "203a5b7a-73c1-45d3-a703-05d4e38324c7"
      },
      "execution_count": 4,
      "outputs": [
        {
          "output_type": "display_data",
          "data": {
            "text/plain": [
              "<IPython.core.display.HTML object>"
            ],
            "text/html": [
              "\n",
              "     <input type=\"file\" id=\"files-2c983d71-fa15-4aa2-a33f-7ce904bb36cf\" name=\"files[]\" multiple disabled\n",
              "        style=\"border:none\" />\n",
              "     <output id=\"result-2c983d71-fa15-4aa2-a33f-7ce904bb36cf\">\n",
              "      Upload widget is only available when the cell has been executed in the\n",
              "      current browser session. Please rerun this cell to enable.\n",
              "      </output>\n",
              "      <script src=\"/nbextensions/google.colab/files.js\"></script> "
            ]
          },
          "metadata": {}
        },
        {
          "output_type": "stream",
          "name": "stdout",
          "text": [
            "Saving smallmovie_rating.csv to smallmovie_rating.csv\n",
            "\n",
            " file name:  smallmovie_rating.csv\n"
          ]
        }
      ]
    },
    {
      "cell_type": "code",
      "source": [
        "df.columns"
      ],
      "metadata": {
        "colab": {
          "base_uri": "https://localhost:8080/"
        },
        "id": "4XPrtW9i9a_r",
        "outputId": "671e5ab3-5302-41dd-c286-5f2bc021c3f0"
      },
      "execution_count": 5,
      "outputs": [
        {
          "output_type": "execute_result",
          "data": {
            "text/plain": [
              "Index(['Unnamed: 0', 'userId', 'movieId', 'rating', 'timestamp'], dtype='object')"
            ]
          },
          "metadata": {},
          "execution_count": 5
        }
      ]
    },
    {
      "cell_type": "code",
      "source": [
        "N=df.userId.max()+1\n",
        "M=df.movieId.max()+1\n",
        "\n",
        "df=shuffle(df)\n",
        "cutoff=int(0.8*len(df))\n",
        "df_train=df.iloc[:cutoff]\n",
        "df_test=df.iloc[cutoff:]"
      ],
      "metadata": {
        "id": "dkXRyV9Y4wlX"
      },
      "execution_count": 6,
      "outputs": []
    },
    {
      "cell_type": "code",
      "source": [
        "#initialize variables\n",
        "K=9 #latent dimensionality\n",
        "mu=df_train.rating.mean()\n",
        "epoch=20\n",
        "reg=0."
      ],
      "metadata": {
        "id": "ZQ9HRUaK5z5X"
      },
      "execution_count": 7,
      "outputs": []
    },
    {
      "cell_type": "code",
      "source": [
        "#Model 1# Matrix factorization\n",
        "u=Input(shape=(1,))\n",
        "m=Input(shape=(1,))\n",
        "\n",
        "u_embedding=Embedding(N,K,embeddings_regularizer=l2(reg))(u)\n",
        "m_embedding=Embedding(M,K,embeddings_regularizer=l2(reg))(m)\n",
        "\n",
        "u_bias=Embedding(N,1,embeddings_regularizer=l2(reg))(u)\n",
        "m_bias=Embedding(M,1,embeddings_regularizer=l2(reg))(m)\n",
        "x=Dot(axes=2)([u_embedding,m_embedding])\n",
        "x=Add()([x,u_bias,m_bias])\n",
        "x=Flatten()(x)\n",
        "model=Model(inputs=[u,m],outputs=x)\n",
        "model.summary()"
      ],
      "metadata": {
        "colab": {
          "base_uri": "https://localhost:8080/"
        },
        "id": "mwUmM5js6Heq",
        "outputId": "8f919087-8c92-4b86-e525-bbdf4383baa2"
      },
      "execution_count": 8,
      "outputs": [
        {
          "output_type": "stream",
          "name": "stdout",
          "text": [
            "Model: \"model\"\n",
            "__________________________________________________________________________________________________\n",
            " Layer (type)                   Output Shape         Param #     Connected to                     \n",
            "==================================================================================================\n",
            " input_1 (InputLayer)           [(None, 1)]          0           []                               \n",
            "                                                                                                  \n",
            " input_2 (InputLayer)           [(None, 1)]          0           []                               \n",
            "                                                                                                  \n",
            " embedding (Embedding)          (None, 1, 9)         90000       ['input_1[0][0]']                \n",
            "                                                                                                  \n",
            " embedding_1 (Embedding)        (None, 1, 9)         18000       ['input_2[0][0]']                \n",
            "                                                                                                  \n",
            " dot (Dot)                      (None, 1, 1)         0           ['embedding[0][0]',              \n",
            "                                                                  'embedding_1[0][0]']            \n",
            "                                                                                                  \n",
            " embedding_2 (Embedding)        (None, 1, 1)         10000       ['input_1[0][0]']                \n",
            "                                                                                                  \n",
            " embedding_3 (Embedding)        (None, 1, 1)         2000        ['input_2[0][0]']                \n",
            "                                                                                                  \n",
            " add (Add)                      (None, 1, 1)         0           ['dot[0][0]',                    \n",
            "                                                                  'embedding_2[0][0]',            \n",
            "                                                                  'embedding_3[0][0]']            \n",
            "                                                                                                  \n",
            " flatten (Flatten)              (None, 1)            0           ['add[0][0]']                    \n",
            "                                                                                                  \n",
            "==================================================================================================\n",
            "Total params: 120,000\n",
            "Trainable params: 120,000\n",
            "Non-trainable params: 0\n",
            "__________________________________________________________________________________________________\n"
          ]
        }
      ]
    },
    {
      "cell_type": "code",
      "source": [
        "model.compile(\n",
        "    loss='mse',\n",
        "    optimizer=SGD(lr=0.01,momentum=0.9),\n",
        "    metrics=['mse'])\n",
        "\n",
        "r=model.fit(x=[df_train.userId.values,df_train.movieId.values],\n",
        "            y=df_train.rating.values-mu,\n",
        "            epochs=epoch,\n",
        "            batch_size=128,\n",
        "            validation_data=([df_test.userId.values,df_test.movieId.values],\n",
        "            df_test.rating.values-mu),\n",
        "            callbacks= tf.keras.callbacks.TensorBoard(log_dir='logs/matrix factorization')\n",
        ")"
      ],
      "metadata": {
        "colab": {
          "base_uri": "https://localhost:8080/"
        },
        "id": "C7rKixLrAO98",
        "outputId": "a248b365-352f-4b3e-b544-4089c5ecbc4c"
      },
      "execution_count": 9,
      "outputs": [
        {
          "output_type": "stream",
          "name": "stderr",
          "text": [
            "/usr/local/lib/python3.7/dist-packages/keras/optimizer_v2/gradient_descent.py:102: UserWarning: The `lr` argument is deprecated, use `learning_rate` instead.\n",
            "  super(SGD, self).__init__(name, **kwargs)\n"
          ]
        },
        {
          "output_type": "stream",
          "name": "stdout",
          "text": [
            "Epoch 1/20\n",
            "33701/33701 [==============================] - 85s 2ms/step - loss: 0.7832 - mse: 0.7832 - val_loss: 0.7092 - val_mse: 0.7092\n",
            "Epoch 2/20\n",
            "33701/33701 [==============================] - 84s 2ms/step - loss: 0.6923 - mse: 0.6923 - val_loss: 0.6813 - val_mse: 0.6813\n",
            "Epoch 3/20\n",
            "33701/33701 [==============================] - 84s 2ms/step - loss: 0.6765 - mse: 0.6765 - val_loss: 0.6736 - val_mse: 0.6736\n",
            "Epoch 4/20\n",
            "33701/33701 [==============================] - 83s 2ms/step - loss: 0.6716 - mse: 0.6716 - val_loss: 0.6712 - val_mse: 0.6712\n",
            "Epoch 5/20\n",
            "33701/33701 [==============================] - 84s 2ms/step - loss: 0.6699 - mse: 0.6699 - val_loss: 0.6704 - val_mse: 0.6704\n",
            "Epoch 6/20\n",
            "33701/33701 [==============================] - 83s 2ms/step - loss: 0.6692 - mse: 0.6692 - val_loss: 0.6700 - val_mse: 0.6700\n",
            "Epoch 7/20\n",
            "33701/33701 [==============================] - 86s 3ms/step - loss: 0.6689 - mse: 0.6689 - val_loss: 0.6699 - val_mse: 0.6699\n",
            "Epoch 8/20\n",
            "33701/33701 [==============================] - 91s 3ms/step - loss: 0.6686 - mse: 0.6686 - val_loss: 0.6696 - val_mse: 0.6696\n",
            "Epoch 9/20\n",
            "33701/33701 [==============================] - 86s 3ms/step - loss: 0.6682 - mse: 0.6682 - val_loss: 0.6692 - val_mse: 0.6692\n",
            "Epoch 10/20\n",
            "33701/33701 [==============================] - 86s 3ms/step - loss: 0.6675 - mse: 0.6675 - val_loss: 0.6684 - val_mse: 0.6684\n",
            "Epoch 11/20\n",
            "33701/33701 [==============================] - 83s 2ms/step - loss: 0.6662 - mse: 0.6662 - val_loss: 0.6667 - val_mse: 0.6667\n",
            "Epoch 12/20\n",
            "33701/33701 [==============================] - 82s 2ms/step - loss: 0.6636 - mse: 0.6636 - val_loss: 0.6635 - val_mse: 0.6635\n",
            "Epoch 13/20\n",
            "33701/33701 [==============================] - 80s 2ms/step - loss: 0.6591 - mse: 0.6591 - val_loss: 0.6580 - val_mse: 0.6580\n",
            "Epoch 14/20\n",
            "33701/33701 [==============================] - 83s 2ms/step - loss: 0.6519 - mse: 0.6519 - val_loss: 0.6503 - val_mse: 0.6503\n",
            "Epoch 15/20\n",
            "33701/33701 [==============================] - 82s 2ms/step - loss: 0.6430 - mse: 0.6430 - val_loss: 0.6416 - val_mse: 0.6416\n",
            "Epoch 16/20\n",
            "33701/33701 [==============================] - 85s 3ms/step - loss: 0.6341 - mse: 0.6341 - val_loss: 0.6341 - val_mse: 0.6341\n",
            "Epoch 17/20\n",
            "33701/33701 [==============================] - 85s 3ms/step - loss: 0.6265 - mse: 0.6265 - val_loss: 0.6277 - val_mse: 0.6277\n",
            "Epoch 18/20\n",
            "33701/33701 [==============================] - 85s 3ms/step - loss: 0.6199 - mse: 0.6199 - val_loss: 0.6220 - val_mse: 0.6220\n",
            "Epoch 19/20\n",
            "33701/33701 [==============================] - 88s 3ms/step - loss: 0.6136 - mse: 0.6136 - val_loss: 0.6165 - val_mse: 0.6165\n",
            "Epoch 20/20\n",
            "33701/33701 [==============================] - 87s 3ms/step - loss: 0.6072 - mse: 0.6072 - val_loss: 0.6108 - val_mse: 0.6108\n"
          ]
        }
      ]
    },
    {
      "cell_type": "code",
      "source": [
        "#Model 2 Deep Nueral Networks\n",
        "u=Input(shape=(1,))\n",
        "m=Input(shape=(1,))\n",
        "\n",
        "u_embedding=Embedding(N,K)(u)\n",
        "m_embedding=Embedding(M,K)(m)\n",
        "u_embedding=Flatten()(u_embedding)\n",
        "m_embedding=Flatten()(m_embedding)\n",
        "x=Concatenate()([u_embedding,m_embedding])\n",
        "\n",
        "x=Dense(400,activation='relu')(x)\n",
        "x=Dropout(0.3)(x)\n",
        "x=BatchNormalization()(x)\n",
        "x=Dense(100,activation='relu')(x)\n",
        "x=Dropout(0.3)(x)\n",
        "x=BatchNormalization()(x)\n",
        "x=Dense(1)(x)\n",
        "\n",
        "model2=Model(inputs=[u,m],outputs=x)"
      ],
      "metadata": {
        "id": "_b90vA3W8Nhj"
      },
      "execution_count": 10,
      "outputs": []
    },
    {
      "cell_type": "code",
      "source": [
        "model2.summary()"
      ],
      "metadata": {
        "colab": {
          "base_uri": "https://localhost:8080/"
        },
        "id": "epCs1mK_th4L",
        "outputId": "bc8d8c3c-2ddc-4cca-ebf9-5e4a174eecad"
      },
      "execution_count": 11,
      "outputs": [
        {
          "output_type": "stream",
          "name": "stdout",
          "text": [
            "Model: \"model_1\"\n",
            "__________________________________________________________________________________________________\n",
            " Layer (type)                   Output Shape         Param #     Connected to                     \n",
            "==================================================================================================\n",
            " input_3 (InputLayer)           [(None, 1)]          0           []                               \n",
            "                                                                                                  \n",
            " input_4 (InputLayer)           [(None, 1)]          0           []                               \n",
            "                                                                                                  \n",
            " embedding_4 (Embedding)        (None, 1, 9)         90000       ['input_3[0][0]']                \n",
            "                                                                                                  \n",
            " embedding_5 (Embedding)        (None, 1, 9)         18000       ['input_4[0][0]']                \n",
            "                                                                                                  \n",
            " flatten_1 (Flatten)            (None, 9)            0           ['embedding_4[0][0]']            \n",
            "                                                                                                  \n",
            " flatten_2 (Flatten)            (None, 9)            0           ['embedding_5[0][0]']            \n",
            "                                                                                                  \n",
            " concatenate (Concatenate)      (None, 18)           0           ['flatten_1[0][0]',              \n",
            "                                                                  'flatten_2[0][0]']              \n",
            "                                                                                                  \n",
            " dense (Dense)                  (None, 400)          7600        ['concatenate[0][0]']            \n",
            "                                                                                                  \n",
            " activation (Activation)        (None, 400)          0           ['dense[0][0]']                  \n",
            "                                                                                                  \n",
            " dense_1 (Dense)                (None, 1)            401         ['activation[0][0]']             \n",
            "                                                                                                  \n",
            "==================================================================================================\n",
            "Total params: 116,001\n",
            "Trainable params: 116,001\n",
            "Non-trainable params: 0\n",
            "__________________________________________________________________________________________________\n"
          ]
        }
      ]
    },
    {
      "cell_type": "code",
      "source": [
        "model2.compile(\n",
        "    loss='mse',\n",
        "    optimizer=SGD(lr=0.01,momentum=0.9),\n",
        "    metrics=['mse'])\n",
        "\n",
        "r2=model2.fit(x=[df_train.userId.values,df_train.movieId.values],\n",
        "            y=df_train.rating.values-mu,\n",
        "            epochs=epoch,\n",
        "            batch_size=128,\n",
        "            validation_data=([df_test.userId.values,df_test.movieId.values],\n",
        "            df_test.rating.values-mu),\n",
        "            callbacks=tf.keras.callbacks.TensorBoard(log_dir='logs/deep NN')\n",
        ")\n"
      ],
      "metadata": {
        "id": "dyJHCNk_BdNL",
        "colab": {
          "base_uri": "https://localhost:8080/"
        },
        "outputId": "c14d3584-9501-4bb7-dcbb-9d0f98dd88c6"
      },
      "execution_count": 12,
      "outputs": [
        {
          "output_type": "stream",
          "name": "stdout",
          "text": [
            "Epoch 1/20\n"
          ]
        },
        {
          "output_type": "stream",
          "name": "stderr",
          "text": [
            "/usr/local/lib/python3.7/dist-packages/keras/optimizer_v2/gradient_descent.py:102: UserWarning: The `lr` argument is deprecated, use `learning_rate` instead.\n",
            "  super(SGD, self).__init__(name, **kwargs)\n"
          ]
        },
        {
          "output_type": "stream",
          "name": "stdout",
          "text": [
            "33701/33701 [==============================] - 86s 3ms/step - loss: 0.6959 - mse: 0.6959 - val_loss: 0.6503 - val_mse: 0.6503\n",
            "Epoch 2/20\n",
            "33701/33701 [==============================] - 85s 3ms/step - loss: 0.6338 - mse: 0.6338 - val_loss: 0.6271 - val_mse: 0.6271\n",
            "Epoch 3/20\n",
            "33701/33701 [==============================] - 85s 3ms/step - loss: 0.6234 - mse: 0.6234 - val_loss: 0.6171 - val_mse: 0.6171\n",
            "Epoch 4/20\n",
            "33701/33701 [==============================] - 83s 2ms/step - loss: 0.6137 - mse: 0.6137 - val_loss: 0.6122 - val_mse: 0.6122\n",
            "Epoch 5/20\n",
            "33701/33701 [==============================] - 84s 2ms/step - loss: 0.6084 - mse: 0.6084 - val_loss: 0.6077 - val_mse: 0.6077\n",
            "Epoch 6/20\n",
            "33701/33701 [==============================] - 85s 3ms/step - loss: 0.6025 - mse: 0.6025 - val_loss: 0.6010 - val_mse: 0.6010\n",
            "Epoch 7/20\n",
            "33701/33701 [==============================] - 85s 3ms/step - loss: 0.5925 - mse: 0.5925 - val_loss: 0.5953 - val_mse: 0.5953\n",
            "Epoch 8/20\n",
            "33701/33701 [==============================] - 88s 3ms/step - loss: 0.5873 - mse: 0.5873 - val_loss: 0.5918 - val_mse: 0.5918\n",
            "Epoch 9/20\n",
            "33701/33701 [==============================] - 85s 3ms/step - loss: 0.5838 - mse: 0.5838 - val_loss: 0.5887 - val_mse: 0.5887\n",
            "Epoch 10/20\n",
            "33701/33701 [==============================] - 85s 3ms/step - loss: 0.5807 - mse: 0.5807 - val_loss: 0.5864 - val_mse: 0.5864\n",
            "Epoch 11/20\n",
            "33701/33701 [==============================] - 84s 3ms/step - loss: 0.5761 - mse: 0.5761 - val_loss: 0.5820 - val_mse: 0.5820\n",
            "Epoch 12/20\n",
            "33701/33701 [==============================] - 85s 3ms/step - loss: 0.5702 - mse: 0.5702 - val_loss: 0.5767 - val_mse: 0.5767\n",
            "Epoch 13/20\n",
            "33701/33701 [==============================] - 86s 3ms/step - loss: 0.5643 - mse: 0.5643 - val_loss: 0.5726 - val_mse: 0.5726\n",
            "Epoch 14/20\n",
            "33701/33701 [==============================] - 87s 3ms/step - loss: 0.5586 - mse: 0.5586 - val_loss: 0.5683 - val_mse: 0.5683\n",
            "Epoch 15/20\n",
            "33701/33701 [==============================] - 86s 3ms/step - loss: 0.5526 - mse: 0.5526 - val_loss: 0.5640 - val_mse: 0.5640\n",
            "Epoch 16/20\n",
            "33701/33701 [==============================] - 85s 3ms/step - loss: 0.5473 - mse: 0.5473 - val_loss: 0.5620 - val_mse: 0.5620\n",
            "Epoch 17/20\n",
            "33701/33701 [==============================] - 90s 3ms/step - loss: 0.5433 - mse: 0.5433 - val_loss: 0.5599 - val_mse: 0.5599\n",
            "Epoch 18/20\n",
            "33701/33701 [==============================] - 90s 3ms/step - loss: 0.5402 - mse: 0.5402 - val_loss: 0.5551 - val_mse: 0.5551\n",
            "Epoch 19/20\n",
            "33701/33701 [==============================] - 89s 3ms/step - loss: 0.5380 - mse: 0.5380 - val_loss: 0.5548 - val_mse: 0.5548\n",
            "Epoch 20/20\n",
            "33701/33701 [==============================] - 92s 3ms/step - loss: 0.5361 - mse: 0.5361 - val_loss: 0.5540 - val_mse: 0.5540\n"
          ]
        }
      ]
    },
    {
      "cell_type": "code",
      "source": [
        "!tensorboard dev upload --logdir ./logs/ \\\n",
        "  --name \"matrix factorization\"\\\n",
        "  --description \"Use Keras' Embedding layers to implement Matrix Factorization.\"\\\n",
        "  --one_shot"
      ],
      "metadata": {
        "id": "Nct98Uc3CH7r",
        "colab": {
          "base_uri": "https://localhost:8080/"
        },
        "outputId": "add705dc-4790-4294-db88-fa4c047c5969"
      },
      "execution_count": 13,
      "outputs": [
        {
          "output_type": "stream",
          "name": "stdout",
          "text": [
            "2022-05-27 04:02:47.189403: E tensorflow/stream_executor/cuda/cuda_driver.cc:271] failed call to cuInit: CUDA_ERROR_NO_DEVICE: no CUDA-capable device is detected\n",
            "\n",
            "***** TensorBoard Uploader *****\n",
            "\n",
            "This will upload your TensorBoard logs to https://tensorboard.dev/ from\n",
            "the following directory:\n",
            "\n",
            "./logs/\n",
            "\n",
            "This TensorBoard will be visible to everyone. Do not upload sensitive\n",
            "data.\n",
            "\n",
            "Your use of this service is subject to Google's Terms of Service\n",
            "<https://policies.google.com/terms> and Privacy Policy\n",
            "<https://policies.google.com/privacy>, and TensorBoard.dev's Terms of Service\n",
            "<https://tensorboard.dev/policy/terms/>.\n",
            "\n",
            "This notice will not be shown again while you are logged into the uploader.\n",
            "To log out, run `tensorboard dev auth revoke`.\n",
            "\n",
            "Continue? (yes/NO) y\n",
            "\n",
            "Please visit this URL to authorize this application: https://accounts.google.com/o/oauth2/auth?response_type=code&client_id=373649185512-8v619h5kft38l4456nm2dj4ubeqsrvh6.apps.googleusercontent.com&redirect_uri=urn%3Aietf%3Awg%3Aoauth%3A2.0%3Aoob&scope=openid+https%3A%2F%2Fwww.googleapis.com%2Fauth%2Fuserinfo.email&state=5vTiwnusChXdjuAZpIrcGliCTpNERS&prompt=consent&access_type=offline\n",
            "Enter the authorization code: 4/1AX4XfWjUwiaRDY3qTZFTH1-yQNEduGuOfGifgHkPuWofF7qiEZ8kGLqH8gc\n",
            "\n",
            "\n",
            "New experiment created. View your TensorBoard at: https://tensorboard.dev/experiment/UQXBn3oWSRSa4OksLWGzMA/\n",
            "\n",
            "\u001b[1m[2022-05-27T04:10:39]\u001b[0m Started scanning logdir.\n",
            "\u001b[1m[2022-05-27T04:10:41]\u001b[0m Total uploaded: 240 scalars, 0 tensors, 2 binary objects (100.9 kB)\n",
            "\u001b[1m[2022-05-27T04:10:41]\u001b[0m Done scanning logdir.\n",
            "\n",
            "\n",
            "Done. View your TensorBoard at https://tensorboard.dev/experiment/UQXBn3oWSRSa4OksLWGzMA/\n"
          ]
        }
      ]
    },
    {
      "cell_type": "code",
      "source": [
        "#Let's take a close look at use User_number\n",
        "User_number=1 #@param {type:\"number\"}\n",
        "listm=[]\n",
        "user1df=df[df.userId==User_number].sort_values(['movieId'])\n",
        "for i in range(max(user1df.movieId.tolist())):\n",
        "  if i not in user1df.movieId.tolist():\n",
        "    listm.append(i)\n",
        "\n",
        "listu=[1]* len(listm)\n",
        "pred=[]\n",
        "for i in range(1,len(listm)):\n",
        "  pred.append(model2.predict([np.array([listu[i-1]]),np.array([listm[i-1]])]))\n",
        "\n",
        "\n",
        "max_item = max(pred)\n",
        "listm[[index for index in range(len(pred)) if pred[index] == max_item][0]]\n",
        "print(f'The most recommended movie for user {User_number} is movie',\n",
        "        listm[[index for index in range(len(pred)) if pred[index] == max_item][0]])\n"
      ],
      "metadata": {
        "colab": {
          "base_uri": "https://localhost:8080/"
        },
        "cellView": "form",
        "id": "s78anoaZo2K1",
        "outputId": "81fd79f0-5354-4b25-e116-556432a6b75f"
      },
      "execution_count": 37,
      "outputs": [
        {
          "output_type": "stream",
          "name": "stdout",
          "text": [
            "The most recommended movie for user 1 is movie 599\n"
          ]
        }
      ]
    }
  ]
}